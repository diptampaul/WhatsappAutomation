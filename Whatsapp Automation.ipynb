{
 "cells": [
  {
   "cell_type": "code",
   "execution_count": 1,
   "metadata": {},
   "outputs": [],
   "source": [
    "from selenium import webdriver"
   ]
  },
  {
   "cell_type": "code",
   "execution_count": 2,
   "metadata": {},
   "outputs": [],
   "source": [
    "browser = webdriver.Chrome(\"/Users/dipta/Desktop/Tutorial/Whatsapp Automation/chromedriver\")"
   ]
  },
  {
   "cell_type": "code",
   "execution_count": 3,
   "metadata": {},
   "outputs": [],
   "source": [
    "browser.get(\"https://www.selenium.dev/\")"
   ]
  },
  {
   "cell_type": "code",
   "execution_count": 4,
   "metadata": {},
   "outputs": [],
   "source": [
    "download = browser.find_element_by_link_text(\"Downloads\")\n",
    "download.click()"
   ]
  },
  {
   "cell_type": "code",
   "execution_count": 6,
   "metadata": {},
   "outputs": [],
   "source": [
    "search = browser.find_element_by_id(\"gsc-i-id1\")\n",
    "search.send_keys('Downloads')"
   ]
  },
  {
   "cell_type": "markdown",
   "metadata": {},
   "source": [
    "### Whatsapp Automation"
   ]
  },
  {
   "cell_type": "code",
   "execution_count": null,
   "metadata": {},
   "outputs": [
    {
     "name": "stdout",
     "output_type": "stream",
     "text": [
      "Enter the File PathC:/Users/dipta/Desktop/Tutorial/Whatsapp Automation/Image.jpg\n"
     ]
    }
   ],
   "source": [
    "from selenium import webdriver\n",
    "from selenium.webdriver.support import expected_conditions as ec\n",
    "from selenium.webdriver.support.ui import WebDriverWait\n",
    "from selenium.webdriver.common.keys import Keys\n",
    "from selenium.webdriver.common.by import By\n",
    "import time\n",
    "\n",
    "browser = webdriver.Chrome(\"/Users/dipta/Desktop/Tutorial/Whatsapp Automation/chromedriver\")\n",
    "browser.get(\"https://web.whatsapp.com/\")\n",
    "wait = WebDriverWait(browser,600)\n",
    "\n",
    "target = '\"Sonai\"'\n",
    "file_path = input(\"Enter the File Path\")\n",
    "string = input(\"enter the message\")\n",
    "x_arg = '//span[contains(@title, ' + target +')]'"
   ]
  },
  {
   "cell_type": "code",
   "execution_count": 16,
   "metadata": {},
   "outputs": [],
   "source": [
    "target = wait.until(ec.presence_of_element_located((By.XPATH, x_arg)))\n",
    "target.click()\n",
    "\n",
    "input_box = browser.find_element_by_class_name('_1Plpp')\n",
    "\n",
    "for i in range(50):\n",
    "    input_box.send_keys(string + Keys.ENTER)"
   ]
  },
  {
   "cell_type": "code",
   "execution_count": 21,
   "metadata": {},
   "outputs": [],
   "source": [
    "file_path = \"C:/Users/dipta/Desktop/Tutorial/Whatsapp Automation/boy.jpg\""
   ]
  },
  {
   "cell_type": "code",
   "execution_count": 22,
   "metadata": {},
   "outputs": [],
   "source": [
    "from time import sleep\n",
    "attachment_section = browser.find_element_by_xpath('//div[@title = \"Attach\"]')\n",
    "attachment_section.click()\n",
    "\n",
    "image_box = browser.find_element_by_xpath('//input[@accept=\"image/*,video/mp4,video/3gpp,video/quicktime\"]')\n",
    "image_box.send_keys(file_path)\n",
    "\n",
    "sleep(3)\n",
    "\n",
    "send_button = browser.find_element_by_xpath('//span[@data-icon=\"send-light\"]')\n",
    "send_button.click()"
   ]
  },
  {
   "cell_type": "code",
   "execution_count": null,
   "metadata": {},
   "outputs": [],
   "source": []
  }
 ],
 "metadata": {
  "kernelspec": {
   "display_name": "Python 3",
   "language": "python",
   "name": "python3"
  },
  "language_info": {
   "codemirror_mode": {
    "name": "ipython",
    "version": 3
   },
   "file_extension": ".py",
   "mimetype": "text/x-python",
   "name": "python",
   "nbconvert_exporter": "python",
   "pygments_lexer": "ipython3",
   "version": "3.7.4"
  }
 },
 "nbformat": 4,
 "nbformat_minor": 2
}
